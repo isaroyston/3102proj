{
 "cells": [
  {
   "cell_type": "markdown",
   "metadata": {},
   "source": [
    "# How do we add our data csv files to a MySQL database\n"
   ]
  },
  {
   "cell_type": "markdown",
   "metadata": {},
   "source": [
    "## Option 1: Through MySQL workbench\n"
   ]
  },
  {
   "cell_type": "markdown",
   "metadata": {},
   "source": [
    "MySQL Workbench provides a user-friendly interface to import CSV data and create corresponding tables.\n",
    "\n",
    "Steps:\n",
    "\n",
    "1.  Open MySQL Workbench: Launch the application and connect to your desired database.\n",
    "2.  Right-click on the database: In the navigation pane, right-click on the database where you want to create the table.\n",
    "3.  Select \"Table Data Import Wizard\": This will open the import wizard.\n",
    "4.  Choose CSV file: Select the CSV file you want to import.\n",
    "5.  Select destination: You can either choose an existing table or create a new table.\n",
    "6.  Configure import settings:\n",
    "    - Table name: Specify the name for the new table.\n",
    "    - Column names: Map the CSV columns to the table columns.\n",
    "    - Data types: Define the data types for the columns.\n",
    "    - Character set and encoding: Ensure correct character encoding.\n",
    "    - Field and line terminators: Specify the delimiters used in your CSV file.\n",
    "7.  Start import: Click the \"Start import\" button to begin the process.\n",
    "\n",
    "**Additional Tips:**\n",
    "\n",
    "- Preview data: You can preview the imported data before creating the table.\n",
    "- Handle errors: MySQL Workbench provides options to handle errors during the import process.\n",
    "- Large CSV files: For large datasets, consider importing data in batches or using command-line tools for better performance.\n",
    "- Data cleaning: Clean and validate your CSV data before importing to ensure data quality.\n"
   ]
  },
  {
   "cell_type": "markdown",
   "metadata": {},
   "source": [
    "## Option 2: Programatically\n"
   ]
  },
  {
   "cell_type": "code",
   "execution_count": null,
   "metadata": {},
   "outputs": [],
   "source": [
    "import os\n",
    "from pathlib import Path\n",
    "from typing import List, Tuple\n",
    "import pandas as pd\n",
    "from datetime import datetime\n",
    "import mysql.connector\n",
    "from sqlalchemy import create_engine\n",
    "from sqlalchemy.exc import SQLAlchemyError, IntegrityError, DataError\n",
    "from dotenv import load_dotenv\n",
    "\n",
    "def find_root_dir():\n",
    "    \"\"\"Find the root directory of the project.\"\"\"\n",
    "    current_dir = Path.cwd()\n",
    "    while current_dir.name != 'notebooks':\n",
    "        if current_dir.parent == current_dir:\n",
    "            raise FileNotFoundError(\"Could not find project root directory\")\n",
    "        current_dir = current_dir.parent\n",
    "    return current_dir.parent\n",
    "\n",
    "def log_dropped_rows(df, subset, table_name):\n",
    "    \"\"\"Log the dropped rows into a CSV file.\"\"\"\n",
    "    dropped_rows = df[df.duplicated(subset=subset, keep=False)]\n",
    "    if not dropped_rows.empty:\n",
    "        timestamp = datetime.now().strftime(\"%Y%m%d_%H%M%S\")\n",
    "        filename = f\"../../data/processed/duplicates_{table_name}_{timestamp}.csv\"\n",
    "        dropped_rows.to_csv(filename, index=False)\n",
    "        print(f\"Dropped rows logged to: {filename}\")\n",
    "\n",
    "def clean_data(df, table_name):\n",
    "    \"\"\"Clean and transform data based on the table name.\"\"\"\n",
    "    if table_name == 'contacts':\n",
    "        df['contact_channel_first'] = df['contact_channel_first'].map({\n",
    "            'contact_me': 'contact_me', \n",
    "            'book_it': 'book_it', \n",
    "            'instant_book': 'instant_book'\n",
    "        })\n",
    "        df['guest_user_stage_first'] = df['guest_user_stage_first'].map({\n",
    "            'past_booker': 'past_booker', \n",
    "            'new': 'new_user'\n",
    "        })\n",
    "    elif table_name == 'listings':\n",
    "        df['room_type'] = df['room_type'].map({\n",
    "            'Private room': 'private_room',\n",
    "            'Entire home/apt': 'entire_home',\n",
    "            'Shared room': 'shared_room'\n",
    "        })\n",
    "    return df\n",
    "\n",
    "def upload_csv_to_table(engine, csv_file_path: str, table_name: str):\n",
    "    \"\"\"\n",
    "    Upload data from a CSV file to a MySQL table using pandas with batch processing.\n",
    "\n",
    "    :param engine: SQLAlchemy engine for database connection\n",
    "    :param csv_file_path: Path to the CSV file\n",
    "    :param table_name: Name of the table to insert data into\n",
    "    \"\"\"\n",
    "    chunk_size = 10000  # Adjust this value based on your system's memory capacity\n",
    "    total_rows = 0\n",
    "    \n",
    "    try:\n",
    "        for chunk in pd.read_csv(csv_file_path, chunksize=chunk_size):\n",
    "            chunk = clean_data(chunk, table_name)\n",
    "            \n",
    "            if table_name == 'contacts':\n",
    "                # Log the rows being dropped\n",
    "                log_dropped_rows(chunk, ['id_guest_anon', 'id_host_anon', 'id_listing_anon'], table_name)\n",
    "                chunk.drop_duplicates(subset=['id_guest_anon', 'id_host_anon', 'id_listing_anon'], \n",
    "                                      keep='first', inplace=True)\n",
    "            elif table_name == 'users':\n",
    "                log_dropped_rows(chunk, 'id_user_anon', table_name)\n",
    "                chunk.drop_duplicates(subset='id_user_anon', keep='first', inplace=True)\n",
    "            elif table_name == 'listings':\n",
    "                log_dropped_rows(chunk, 'id_listing_anon', table_name)\n",
    "                chunk.drop_duplicates(subset='id_listing_anon', keep='first', inplace=True)\n",
    "            \n",
    "            try:\n",
    "                chunk.to_sql(table_name, engine, if_exists='append', index=False, \n",
    "                             method='multi', chunksize=1000)\n",
    "                total_rows += len(chunk)\n",
    "                print(f\"Uploaded {len(chunk)} rows to {table_name}. Total rows: {total_rows}\")\n",
    "            except IntegrityError as e:\n",
    "                print(f\"Integrity error uploading chunk to {table_name}: {e}\")\n",
    "            except DataError as e:\n",
    "                print(f\"Data error uploading chunk to {table_name}: {e}\")\n",
    "            except SQLAlchemyError as e:\n",
    "                print(f\"SQLAlchemy error uploading chunk to {table_name}: {e}\")\n",
    "            except Exception as e:\n",
    "                print(f\"Unexpected error uploading chunk to {table_name}: {e}\")\n",
    "        \n",
    "        print(f\"Completed uploading data from {csv_file_path} to {table_name}. Total rows uploaded: {total_rows}\")\n",
    "    except pd.errors.EmptyDataError:\n",
    "        print(f\"Error: The file {csv_file_path} is empty.\")\n",
    "    except pd.errors.ParserError as e:\n",
    "        print(f\"Error parsing CSV file {csv_file_path}: {e}\")\n",
    "    except Exception as e:\n",
    "        print(f\"Unexpected error processing {csv_file_path}: {e}\")\n",
    "\n",
    "def setup_and_populate_database(table_schemas: List[Tuple[str, str]], csv_files: List[Tuple[str, str]]):\n",
    "    \"\"\"\n",
    "    Set up the database, create tables, and populate them with CSV data.\n",
    "\n",
    "    :param table_schemas: List of tuples, each containing (table_name, table_schema)\n",
    "    :param csv_files: List of tuples, each containing (table_name, csv_file_path)\n",
    "    \"\"\"\n",
    "    project_root = find_root_dir()\n",
    "    load_dotenv(project_root / '.env')\n",
    "\n",
    "    db_host = os.getenv('DB_HOST')\n",
    "    db_user = os.getenv('DB_USER')\n",
    "    db_password = os.getenv('DB_PASSWORD')\n",
    "    db_name = os.getenv('DB_NAME')\n",
    "\n",
    "    connection = None\n",
    "    try:\n",
    "        # Create the initial connection\n",
    "        connection = mysql.connector.connect(\n",
    "            host=db_host,\n",
    "            user=db_user,\n",
    "            password=db_password,\n",
    "            auth_plugin='mysql_native_password'\n",
    "        )\n",
    "        cursor = connection.cursor()\n",
    "\n",
    "        # Create the database if it doesn't exist\n",
    "        cursor.execute(f\"CREATE DATABASE IF NOT EXISTS {db_name}\")\n",
    "        print(f\"Database '{db_name}' created or already exists.\")\n",
    "        cursor.execute(f\"USE {db_name}\")\n",
    "\n",
    "        # Create tables\n",
    "        for table_name, table_schema in table_schemas:\n",
    "            cursor.execute(table_schema)\n",
    "            print(f\"Table '{table_name}' created successfully.\")\n",
    "\n",
    "        # Close the initial connection\n",
    "        cursor.close()\n",
    "        connection.close()\n",
    "\n",
    "        # Create SQLAlchemy engine for pandas operations\n",
    "        engine = create_engine(f\"mysql+mysqlconnector://{db_user}:{db_password}@{db_host}/{db_name}?connect_timeout=300\")\n",
    "\n",
    "        # Upload CSV data\n",
    "        for table_name, csv_file_path in csv_files:\n",
    "            upload_csv_to_table(engine, csv_file_path, table_name)\n",
    "\n",
    "    except mysql.connector.Error as e:\n",
    "        print(f\"MySQL Error: {e}\")\n",
    "    except Exception as e:\n",
    "        print(f\"Unexpected error: {e}\")\n",
    "    finally:\n",
    "        if connection is not None and connection.is_connected():\n",
    "            connection.close()\n",
    "        print(\"Database operations completed.\")\n",
    "\n",
    "# Usage example\n",
    "contacts_schema = \"\"\"\n",
    "CREATE TABLE IF NOT EXISTS contacts (\n",
    "    id_contact INT AUTO_INCREMENT,\n",
    "    id_guest_anon VARCHAR(36) NOT NULL,\n",
    "    id_host_anon VARCHAR(36) NOT NULL,\n",
    "    id_listing_anon VARCHAR(36) NOT NULL,\n",
    "    ts_interaction_first DATETIME,\n",
    "    ts_reply_at_first DATETIME,\n",
    "    ts_accepted_at_first DATETIME,\n",
    "    ts_booking_at DATETIME,\n",
    "    ds_checkin_first DATE,\n",
    "    ds_checkout_first DATE,\n",
    "    m_guests INT,\n",
    "    m_interactions INT,\n",
    "    m_first_message_length_in_characters INT,\n",
    "    contact_channel_first ENUM('contact_me', 'book_it', 'instant_book'),\n",
    "    guest_user_stage_first ENUM('past_booker', 'new_user'),\n",
    "    PRIMARY KEY (id_contact),\n",
    "     KEY idx_guest_host_listing (id_guest_anon, id_host_anon, id_listing_anon)\n",
    ");\n",
    "\"\"\"\n",
    "\n",
    "listings_schema = \"\"\"\n",
    "CREATE TABLE IF NOT EXISTS listings (\n",
    "    id_listing_anon VARCHAR(36) NOT NULL,\n",
    "    room_type VARCHAR(50),\n",
    "    listing_neighborhood VARCHAR(50),\n",
    "    total_reviews INT,\n",
    "    PRIMARY KEY (id_listing_anon)\n",
    ");\n",
    "\"\"\"\n",
    "\n",
    "users_schema = \"\"\"\n",
    "CREATE TABLE IF NOT EXISTS users (\n",
    "    id_user_anon VARCHAR(36) NOT NULL,\n",
    "    country VARCHAR(50),\n",
    "    words_in_user_profile INT,\n",
    "    PRIMARY KEY (id_user_anon)\n",
    ");\n",
    "\"\"\"\n",
    "\n",
    "table_schemas = [\n",
    "    (\"contacts\", contacts_schema),\n",
    "    (\"listings\", listings_schema),\n",
    "    (\"users\", users_schema)\n",
    "]\n",
    "\n",
    "csv_files = [\n",
    "    (\"contacts\", \"../../data/raw/contacts.csv\"),\n",
    "    (\"listings\", \"../../data/raw/listings.csv\"),\n",
    "    (\"users\", \"../../data/raw/users.csv\")\n",
    "]\n",
    "\n",
    "setup_and_populate_database(table_schemas, csv_files)\n"
   ]
  },
  {
   "cell_type": "markdown",
   "metadata": {},
   "source": [
    "---\n"
   ]
  },
  {
   "cell_type": "markdown",
   "metadata": {},
   "source": [
    "# Can SQL help us analyzing the KPIs we defined during week 1?\n"
   ]
  },
  {
   "cell_type": "markdown",
   "metadata": {},
   "source": [
    "## Booking Conversion Rate\n",
    "\n",
    "Definition: The percentage of inquiries that result in a confirmed booking\n"
   ]
  },
  {
   "cell_type": "code",
   "execution_count": null,
   "metadata": {
    "vscode": {
     "languageId": "sql"
    }
   },
   "outputs": [],
   "source": [
    "SELECT\n",
    "    (SUM(CASE WHEN ts_booking_at IS NOT NULL THEN 1 ELSE 0 END) / COUNT(*)) * 100 AS booking_conversion_rate\n",
    "FROM\n",
    "  contacts;"
   ]
  },
  {
   "cell_type": "markdown",
   "metadata": {},
   "source": [
    "## Average Response Time\n",
    "\n",
    "Definition: The average time taken by hosts to respond to guest inquiries.\n"
   ]
  },
  {
   "cell_type": "code",
   "execution_count": null,
   "metadata": {
    "vscode": {
     "languageId": "sql"
    }
   },
   "outputs": [],
   "source": [
    "SELECT\n",
    "    AVG(TIMESTAMPDIFF(MINUTE, ts_interaction_first, ts_reply_at_first)) AS avg_response_time_minutes\n",
    "FROM\n",
    "  contacts\n",
    "WHERE\n",
    "  ts_reply_at_first IS NOT NULL;"
   ]
  },
  {
   "cell_type": "markdown",
   "metadata": {},
   "source": [
    "## Host Acceptance Rate\n",
    "\n",
    "Definition: The percentage of inquiries that are accepted by hosts.\n"
   ]
  },
  {
   "cell_type": "code",
   "execution_count": null,
   "metadata": {
    "vscode": {
     "languageId": "sql"
    }
   },
   "outputs": [],
   "source": [
    "SELECT\n",
    "    (SUM(CASE WHEN ts_accepted_at_first IS NOT NULL THEN 1 ELSE 0 END) / COUNT(*)) * 100 AS host_acceptance_rate\n",
    "FROM\n",
    "  contacts;"
   ]
  },
  {
   "cell_type": "markdown",
   "metadata": {},
   "source": [
    "## Average Booking Lead Time\n",
    "\n",
    "Definition: The average time between inquiry and check-in date for successful bookings.\n"
   ]
  },
  {
   "cell_type": "code",
   "execution_count": null,
   "metadata": {
    "vscode": {
     "languageId": "sql"
    }
   },
   "outputs": [],
   "source": [
    "SELECT\n",
    "    AVG(DATEDIFF(ds_checkin_first, ts_interaction_first)) AS avg_booking_lead_time_days\n",
    "FROM\n",
    "  contacts\n",
    "WHERE\n",
    "  ts_booking_at IS NOT NULL;"
   ]
  },
  {
   "cell_type": "markdown",
   "metadata": {},
   "source": [
    "## Channel Effectiveness Index\n",
    "\n",
    "Definition: A comparison of booking conversion rates across different contact channels.\n"
   ]
  },
  {
   "cell_type": "code",
   "execution_count": null,
   "metadata": {
    "vscode": {
     "languageId": "sql"
    }
   },
   "outputs": [],
   "source": [
    "SELECT\n",
    "    contact_channel_first,\n",
    "    (SUM(CASE WHEN ts_booking_at IS NOT NULL THEN 1 ELSE 0 END) / COUNT(*)) * 100 AS booking_conversion_rate\n",
    "FROM\n",
    "  contacts\n",
    "GROUP BY\n",
    "  contact_channel_first\n",
    "ORDER BY\n",
    "  booking_conversion_rate DESC;"
   ]
  },
  {
   "cell_type": "markdown",
   "metadata": {},
   "source": [
    "## New User Conversion Rate\n",
    "\n",
    "Definition: The booking conversion rate for new users compared to repeat users.\n",
    "\n",
    "First, assume that a \"new user\" is determined by whether this is their first interaction (or if they have fewer than a certain number of prior interactions):\n"
   ]
  },
  {
   "cell_type": "code",
   "execution_count": null,
   "metadata": {
    "vscode": {
     "languageId": "sql"
    }
   },
   "outputs": [],
   "source": [
    "SELECT\n",
    "    user_type,\n",
    "    (SUM(CASE WHEN ts_booking_at IS NOT NULL THEN 1 ELSE 0 END) / COUNT(*)) * 100 AS booking_conversion_rate\n",
    "FROM (\n",
    "    SELECT\n",
    "        c.id_guest_anon,\n",
    "        COUNT(c.id_guest_anon) OVER (PARTITION BY c.id_guest_anon ORDER BY c.ts_interaction_first) AS interaction_count,\n",
    "        c.ts_booking_at,\n",
    "        CASE\n",
    "            WHEN COUNT(c.id_guest_anon) OVER (PARTITION BY c.id_guest_anon ORDER BY c.ts_interaction_first) = 1 THEN 'New User'\n",
    "            ELSE 'Repeat User'\n",
    "        END AS user_type\n",
    "    FROM\n",
    "      contacts AS c\n",
    ") AS subquery\n",
    "GROUP BY user_type;"
   ]
  },
  {
   "cell_type": "markdown",
   "metadata": {},
   "source": [
    "## Message Engagement Rate\n",
    "\n",
    "Definition: The correlation between message length/count and booking success.\n"
   ]
  },
  {
   "cell_type": "code",
   "execution_count": null,
   "metadata": {
    "vscode": {
     "languageId": "sql"
    }
   },
   "outputs": [],
   "source": [
    "SELECT\n",
    "    CASE\n",
    "        WHEN m_first_message_length_in_characters < 50 THEN '< 50 characters'\n",
    "        WHEN m_first_message_length_in_characters BETWEEN 50 AND 100 THEN '50-100 characters'\n",
    "        WHEN m_first_message_length_in_characters > 100 THEN '> 100 characters'\n",
    "    END AS message_length_range,\n",
    "    (SUM(CASE WHEN ts_booking_at IS NOT NULL THEN 1 ELSE 0 END) / COUNT(*)) * 100 AS booking_conversion_rate,\n",
    "    AVG(m_interactions) AS avg_interactions\n",
    "FROM\n",
    "  contacts\n",
    "GROUP BY\n",
    "  message_length_range\n",
    "ORDER BY\n",
    "  booking_conversion_rate DESC;"
   ]
  },
  {
   "cell_type": "markdown",
   "metadata": {},
   "source": [
    "## Room Type Preference Index\n",
    "\n",
    "Definition: The booking conversion rate for different room types.\n"
   ]
  },
  {
   "cell_type": "code",
   "execution_count": null,
   "metadata": {
    "vscode": {
     "languageId": "sql"
    }
   },
   "outputs": [],
   "source": [
    "SELECT\n",
    "  l.room_type,\n",
    "  (SUM(CASE WHEN c.ts_booking_at IS NOT NULL THEN 1 ELSE 0 END) / COUNT(*)) * 100 AS booking_conversion_rate\n",
    "FROM\n",
    "  contacts AS c\n",
    "INNER JOIN\n",
    "  listings AS l\n",
    "  ON c.id_listing_anon = l.id_listing_anon\n",
    "GROUP BY\n",
    "  l.room_type\n",
    "ORDER BY\n",
    "  booking_conversion_rate DESC;"
   ]
  },
  {
   "cell_type": "markdown",
   "metadata": {},
   "source": [
    "---\n"
   ]
  },
  {
   "cell_type": "markdown",
   "metadata": {},
   "source": [
    "# What kind of business questions can SQL help us answer?\n"
   ]
  },
  {
   "cell_type": "markdown",
   "metadata": {},
   "source": [
    "MySQL offers a robust platform for conducting exploratory data analysis (EDA). Its ability to handle large datasets efficiently, coupled with its powerful SQL capabilities, makes it a preferred choice for many analysts.\n",
    "\n",
    "Typically if the business questions are properly formulated we can extract quite a bit of information from the data.\n",
    "\n",
    "Let's have a look at some questions:\n",
    "\n",
    "- How many hosts are also guests?\n",
    "- Are hosts that are also guests booking more often / easily?\n",
    "- Do hosts that are also guests allow more bookings?\n",
    "- Which locations are more popular for enquiries and bookings?\n",
    "- What are the bookings Success rate of those locations?\n",
    "- Which guest profiles are most likely to book?\n",
    "- What are the most common communication channels used?\n",
    "- What is the average response time of hosts?\n",
    "- Which listings have the highest booking rates?\n",
    "- Do longer initial messages from guests lead to higher booking rates?\n",
    "- What are the most common reasons for unsuccessful bookings?\n",
    "- How does guest origin influence booking behavior?\n",
    "- What factors contribute to a host’s success rate?\n",
    "- etc\n"
   ]
  },
  {
   "cell_type": "markdown",
   "metadata": {},
   "source": [
    "### How many hosts are also guests?\n"
   ]
  },
  {
   "cell_type": "code",
   "execution_count": null,
   "metadata": {
    "vscode": {
     "languageId": "sql"
    }
   },
   "outputs": [],
   "source": [
    "SELECT\n",
    "  COUNT(DISTINCT h.id_host_anon) AS hosts_that_are_guests\n",
    "FROM\n",
    "  contacts AS h\n",
    "INNER JOIN\n",
    "  contacts AS g\n",
    "ON (h.id_host_anon = g.id_guest_anon);"
   ]
  },
  {
   "cell_type": "markdown",
   "metadata": {},
   "source": [
    "### Are hosts that are also guests booking more often/easily?\n"
   ]
  },
  {
   "cell_type": "markdown",
   "metadata": {},
   "source": [
    "**Bookings by hosts who are also guests**\n"
   ]
  },
  {
   "cell_type": "code",
   "execution_count": null,
   "metadata": {
    "vscode": {
     "languageId": "sql"
    }
   },
   "outputs": [],
   "source": [
    "SELECT\n",
    "  AVG(booking_count) AS avg_bookings_hosts_as_guests\n",
    "FROM (\n",
    "  SELECT\n",
    "    g.id_guest_anon,\n",
    "    COUNT(g.ts_booking_at) AS booking_count\n",
    "  FROM\n",
    "    contacts AS g\n",
    "  INNER JOIN\n",
    "    contacts AS h\n",
    "    ON g.id_guest_anon = h.id_host_anon\n",
    "  GROUP BY\n",
    "    g.id_guest_anon\n",
    ") AS host_guest_bookings;\n"
   ]
  },
  {
   "cell_type": "markdown",
   "metadata": {},
   "source": [
    "**Bookings by guests who are not hosts**\n"
   ]
  },
  {
   "cell_type": "code",
   "execution_count": null,
   "metadata": {
    "vscode": {
     "languageId": "sql"
    }
   },
   "outputs": [],
   "source": [
    "SELECT\n",
    "  AVG(booking_count) AS avg_bookings_other_guests\n",
    "FROM (\n",
    "  SELECT\n",
    "    id_guest_anon,\n",
    "    COUNT(ts_booking_at) AS booking_count\n",
    "  FROM\n",
    "    contacts\n",
    "  WHERE id_guest_anon NOT IN (\n",
    "    SELECT\n",
    "      DISTINCT g.id_guest_anon\n",
    "    FROM\n",
    "      contacts AS g\n",
    "    INNER JOIN\n",
    "      contacts AS h\n",
    "      ON g.id_guest_anon = h.id_host_anon\n",
    "  )\n",
    "  GROUP BY\n",
    "    id_guest_anon\n",
    ") AS other_guest_bookings;"
   ]
  },
  {
   "cell_type": "markdown",
   "metadata": {},
   "source": [
    "### Do hosts that are also guests allow more bookings?\n"
   ]
  },
  {
   "cell_type": "markdown",
   "metadata": {},
   "source": [
    "**Bookings allowed by hosts who are also guests**\n"
   ]
  },
  {
   "cell_type": "code",
   "execution_count": null,
   "metadata": {
    "vscode": {
     "languageId": "sql"
    }
   },
   "outputs": [],
   "source": [
    "SELECT\n",
    "  AVG(accepted_booking_count) AS avg_accepted_bookings_hosts_as_guests\n",
    "FROM (\n",
    "  SELECT\n",
    "    h.id_host_anon,\n",
    "    COUNT(h.ts_accepted_at_first) AS accepted_booking_count\n",
    "  FROM\n",
    "    contacts AS h\n",
    "  INNER JOIN\n",
    "    contacts AS g\n",
    "    ON h.id_host_anon = g.id_guest_anon\n",
    "  GROUP BY\n",
    "    h.id_host_anon\n",
    ") AS host_guest_accepted_bookings;"
   ]
  },
  {
   "cell_type": "markdown",
   "metadata": {},
   "source": [
    "**Bookings allowed by other hosts**\n"
   ]
  },
  {
   "cell_type": "code",
   "execution_count": null,
   "metadata": {
    "vscode": {
     "languageId": "sql"
    }
   },
   "outputs": [],
   "source": [
    "SELECT\n",
    "  AVG(accepted_booking_count) AS avg_accepted_bookings_other_hosts\n",
    "FROM (\n",
    "  SELECT\n",
    "    id_host_anon,\n",
    "    COUNT(ts_accepted_at_first) AS accepted_booking_count\n",
    "  FROM\n",
    "    contacts\n",
    "  WHERE\n",
    "    id_host_anon NOT IN (\n",
    "      SELECT\n",
    "          DISTINCT h.id_host_anon\n",
    "      FROM\n",
    "        contacts AS h\n",
    "      INNER JOIN\n",
    "        contacts AS g\n",
    "        ON h.id_host_anon = g.id_guest_anon\n",
    ")\n",
    "GROUP BY id_host_anon\n",
    ") AS other_host_accepted_bookings;\n"
   ]
  },
  {
   "cell_type": "markdown",
   "metadata": {},
   "source": [
    "### Which locations are more popular for enquiries and bookings?\n"
   ]
  },
  {
   "cell_type": "markdown",
   "metadata": {},
   "source": [
    "**Popular locations for enquiries**\n"
   ]
  },
  {
   "cell_type": "code",
   "execution_count": null,
   "metadata": {
    "vscode": {
     "languageId": "sql"
    }
   },
   "outputs": [],
   "source": [
    "SELECT\n",
    "  l.listing_neighborhood,\n",
    "  COUNT(*) AS enquiry_count\n",
    "FROM\n",
    "  contacts c\n",
    "INNER JOIN\n",
    "  listings l ON c.id_listing_anon = l.id_listing_anon\n",
    "GROUP BY\n",
    "  l.listing_neighborhood\n",
    "ORDER BY\n",
    "  enquiry_count DESC;"
   ]
  },
  {
   "cell_type": "markdown",
   "metadata": {},
   "source": [
    "**Popular locations for bookings**\n"
   ]
  },
  {
   "cell_type": "code",
   "execution_count": null,
   "metadata": {
    "vscode": {
     "languageId": "sql"
    }
   },
   "outputs": [],
   "source": [
    "SELECT\n",
    "  l.listing_neighborhood,\n",
    "  COUNT(c.ts_booking_at) AS booking_count\n",
    "FROM\n",
    "  contacts c\n",
    "INNER JOIN\n",
    "  listings l ON c.id_listing_anon = l.id_listing_anon\n",
    "WHERE\n",
    "  c.ts_booking_at IS NOT NULL\n",
    "GROUP BY\n",
    "  l.listing_neighborhood\n",
    "ORDER BY\n",
    "  booking_count DESC;"
   ]
  },
  {
   "cell_type": "markdown",
   "metadata": {},
   "source": [
    "How do we put both together?\n"
   ]
  },
  {
   "cell_type": "code",
   "execution_count": null,
   "metadata": {
    "vscode": {
     "languageId": "sql"
    }
   },
   "outputs": [],
   "source": [
    "WITH\n",
    "  location_by_enquiry AS (\n",
    "    SELECT\n",
    "      l.id_listing_anon,\n",
    "      l.listing_neighborhood,\n",
    "      COUNT(*) AS enquiry_count\n",
    "    FROM\n",
    "      contacts c\n",
    "    INNER JOIN\n",
    "      listings l\n",
    "      ON c.id_listing_anon = l.id_listing_anon\n",
    "    GROUP BY\n",
    "      1, 2\n",
    "  ),\n",
    "  location_by_booking AS (\n",
    "    SELECT\n",
    "      l.id_listing_anon,\n",
    "      l.listing_neighborhood,\n",
    "      COUNT(c.ts_booking_at) AS booking_count\n",
    "    FROM\n",
    "      contacts c\n",
    "    INNER JOIN\n",
    "      listings l\n",
    "      ON c.id_listing_anon = l.id_listing_anon\n",
    "    WHERE\n",
    "      c.ts_booking_at IS NOT NULL\n",
    "    GROUP BY\n",
    "      1, 2\n",
    "  )\n",
    "SELECT\n",
    "  e.listing_neighborhood,\n",
    "  SUM(e.enquiry_count) AS enquiry_count,\n",
    "  SUM(b.booking_count) AS booking_count,\n",
    "  SUM(b.booking_count) / SUM(e.enquiry_count) * 100 AS conversions\n",
    "FROM\n",
    "  location_by_enquiry AS e\n",
    "INNER JOIN\n",
    "  location_by_booking AS b\n",
    "  ON (e.id_listing_anon = b.id_listing_anon)\n",
    "GROUP BY\n",
    " 1\n",
    "ORDER BY\n",
    "    enquiry_count DESC;"
   ]
  },
  {
   "cell_type": "markdown",
   "metadata": {},
   "source": [
    "### Success rate of those locations?\n"
   ]
  },
  {
   "cell_type": "code",
   "execution_count": null,
   "metadata": {
    "vscode": {
     "languageId": "sql"
    }
   },
   "outputs": [],
   "source": [
    "SELECT\n",
    "  l.listing_neighborhood,\n",
    "  COUNT(c.ts_accepted_at_first) AS accepted_bookings,\n",
    "  COUNT(c.id_listing_anon) AS total_enquiries,\n",
    "  (COUNT(c.ts_accepted_at_first) / COUNT(c.id_listing_anon)) * 100 AS success_rate\n",
    "FROM\n",
    "  contacts AS c\n",
    "INNER JOIN\n",
    "  listings AS l\n",
    "  ON c.id_listing_anon = l.id_listing_anon\n",
    "GROUP BY\n",
    "  l.listing_neighborhood\n",
    "ORDER BY\n",
    "  total_enquiries DESC;"
   ]
  },
  {
   "cell_type": "markdown",
   "metadata": {},
   "source": [
    "### What types of properties are most popular?\n"
   ]
  },
  {
   "cell_type": "code",
   "execution_count": null,
   "metadata": {
    "vscode": {
     "languageId": "sql"
    }
   },
   "outputs": [],
   "source": [
    "SELECT\n",
    "  l.room_type,\n",
    "  COUNT(c.ts_booking_at) AS booking_count\n",
    "FROM\n",
    "  contacts AS c\n",
    "INNER JOIN\n",
    "  listings AS l\n",
    "  ON c.id_listing_anon = l.id_listing_anon\n",
    "WHERE\n",
    "  c.ts_booking_at IS NOT NULL\n",
    "GROUP BY\n",
    "  l.room_type\n",
    "ORDER BY\n",
    "  booking_count DESC;"
   ]
  },
  {
   "cell_type": "markdown",
   "metadata": {},
   "source": [
    "**What about by location? Any difference?**\n"
   ]
  },
  {
   "cell_type": "code",
   "execution_count": null,
   "metadata": {
    "vscode": {
     "languageId": "sql"
    }
   },
   "outputs": [],
   "source": [
    "SELECT\n",
    "  l.listing_neighborhood,\n",
    "  l.room_type,\n",
    "  COUNT(c.ts_booking_at) AS booking_count\n",
    "FROM\n",
    "  contacts AS c\n",
    "INNER JOIN\n",
    "  listings AS l\n",
    "  ON c.id_listing_anon = l.id_listing_anon\n",
    "WHERE\n",
    "  c.ts_booking_at IS NOT NULL\n",
    "GROUP BY\n",
    "  l.listing_neighborhood, l.room_type\n",
    "ORDER BY\n",
    "  booking_count DESC;"
   ]
  },
  {
   "cell_type": "markdown",
   "metadata": {},
   "source": [
    "**Pivoting it**\n"
   ]
  },
  {
   "cell_type": "code",
   "execution_count": null,
   "metadata": {
    "vscode": {
     "languageId": "sql"
    }
   },
   "outputs": [],
   "source": [
    "SELECT\n",
    "  l.listing_neighborhood,\n",
    "  SUM(CASE WHEN LOWER(l.room_type) = 'entire_home' AND c.ts_booking_at IS NOT NULL THEN 1 ELSE 0 END) AS entire_place_bookings,\n",
    "  SUM(CASE WHEN LOWER(l.room_type) = 'private_room' AND c.ts_booking_at IS NOT NULL THEN 1 ELSE 0 END) AS private_room_bookings,\n",
    "  SUM(CASE WHEN LOWER(l.room_type) = 'shared_room' AND c.ts_booking_at IS NOT NULL THEN 1 ELSE 0 END) AS shared_room_bookings\n",
    "FROM \n",
    "  contacts AS c\n",
    "INNER JOIN \n",
    "  listings AS l \n",
    "  ON c.id_listing_anon = l.id_listing_anon\n",
    "GROUP BY \n",
    "  l.listing_neighborhood\n",
    "ORDER BY \n",
    "  entire_place_bookings DESC;"
   ]
  },
  {
   "cell_type": "markdown",
   "metadata": {},
   "source": [
    "### Which guest profiles are most likely to book?\n"
   ]
  },
  {
   "cell_type": "markdown",
   "metadata": {},
   "source": [
    "**Query: Are guests with more detailed profiles (more words in their profile) more likely to book a listing?**\n"
   ]
  },
  {
   "cell_type": "code",
   "execution_count": null,
   "metadata": {
    "vscode": {
     "languageId": "sql"
    }
   },
   "outputs": [],
   "source": [
    "SELECT\n",
    "  CASE\n",
    "    WHEN u.words_in_user_profile < 50 THEN 'Low Profile Detail'\n",
    "    WHEN u.words_in_user_profile BETWEEN 50 AND 150 THEN 'Medium Profile Detail'\n",
    "    ELSE 'High Profile Detail'\n",
    "  END AS profile_detail,\n",
    "  COUNT(c.ts_booking_at) AS booking_count\n",
    "FROM\n",
    "  contacts AS c\n",
    "INNER JOIN\n",
    "  users AS u\n",
    "  ON c.id_guest_anon = u.id_user_anon\n",
    "WHERE\n",
    "  c.ts_booking_at IS NOT NULL\n",
    "GROUP BY\n",
    "  profile_detail\n",
    "ORDER BY\n",
    "  booking_count DESC;"
   ]
  },
  {
   "cell_type": "markdown",
   "metadata": {},
   "source": [
    "### What percentage of each profile manage to book a property?\n",
    "\n",
    "Query: Analyze guest profiles by the number of words in their profile to see which profiles book the most and calculate the booking success rate.\n"
   ]
  },
  {
   "cell_type": "code",
   "execution_count": null,
   "metadata": {
    "vscode": {
     "languageId": "sql"
    }
   },
   "outputs": [],
   "source": [
    "-- Percentage of bookings by profile detail\n",
    "SELECT\n",
    "  profile_detail,\n",
    "  COUNT(ts_booking_at) AS booking_count,\n",
    "  COUNT(ts_booking_at) / (SELECT COUNT(*) FROM contacts) * 100 AS booking_percentage\n",
    "FROM (\n",
    "  SELECT\n",
    "    u.id_user_anon,\n",
    "    CASE\n",
    "      WHEN u.words_in_user_profile < 50 THEN 'Low Profile Detail'\n",
    "      WHEN u.words_in_user_profile BETWEEN 50 AND 150 THEN 'Medium Profile Detail'\n",
    "      ELSE 'High Profile Detail'\n",
    "    END AS profile_detail,\n",
    "    c.ts_booking_at\n",
    "  FROM\n",
    "    contacts AS c\n",
    "  INNER JOIN\n",
    "    users AS u\n",
    "    ON c.id_guest_anon = u.id_user_anon\n",
    ") AS profile_bookings\n",
    "WHERE\n",
    "  ts_booking_at IS NOT NULL\n",
    "GROUP BY\n",
    "  profile_detail\n",
    "ORDER BY\n",
    "  booking_percentage DESC;"
   ]
  },
  {
   "cell_type": "markdown",
   "metadata": {},
   "source": [
    "### What are the most common communication channels used?\n",
    "\n",
    "Query: Which contact channels are most commonly used by guests for initial interaction?\n"
   ]
  },
  {
   "cell_type": "code",
   "execution_count": null,
   "metadata": {
    "vscode": {
     "languageId": "sql"
    }
   },
   "outputs": [],
   "source": [
    "SELECT\n",
    "  contact_channel_first,\n",
    "  COUNT(*) AS usage_count\n",
    "FROM\n",
    "  contacts\n",
    "GROUP BY\n",
    "  contact_channel_first\n",
    "ORDER BY\n",
    "  usage_count DESC;"
   ]
  },
  {
   "cell_type": "markdown",
   "metadata": {},
   "source": [
    "### What are the most common communication channels used by the country of the guest?\n",
    "\n",
    "Query: Determine which communication channels guests from different countries use most often for their initial contact.\n"
   ]
  },
  {
   "cell_type": "code",
   "execution_count": null,
   "metadata": {
    "vscode": {
     "languageId": "sql"
    }
   },
   "outputs": [],
   "source": [
    "SELECT\n",
    "  u.country,\n",
    "  c.contact_channel_first,\n",
    "  COUNT(*) AS usage_count\n",
    "FROM \n",
    "  contacts AS c\n",
    "INNER JOIN \n",
    "  users AS u \n",
    "  ON c.id_guest_anon = u.id_user_anon\n",
    "GROUP BY \n",
    "  u.country, c.contact_channel_first\n",
    "ORDER BY \n",
    "  usage_count DESC;"
   ]
  },
  {
   "cell_type": "markdown",
   "metadata": {},
   "source": [
    "**Pivoting**\n"
   ]
  },
  {
   "cell_type": "code",
   "execution_count": null,
   "metadata": {
    "vscode": {
     "languageId": "sql"
    }
   },
   "outputs": [],
   "source": [
    "SELECT\n",
    "  u.country,\n",
    "  SUM(CASE WHEN (c.contact_channel_first = \"contact_me\") THEN 1 ELSE 0 END) AS contact_me,\n",
    "  SUM(CASE WHEN (c.contact_channel_first = \"book_it\") THEN 1 ELSE 0 END) AS book_it,\n",
    "  SUM(CASE WHEN (c.contact_channel_first = \"instant_book\") THEN 1 ELSE 0 END) AS instant_book,\n",
    "  COUNT(*) AS usage_count\n",
    "FROM\n",
    "  contacts AS c\n",
    "INNER JOIN\n",
    "  users AS u\n",
    "  ON c.id_guest_anon = u.id_user_anon\n",
    "GROUP BY\n",
    "  u.country\n",
    "ORDER BY\n",
    "  usage_count DESC;"
   ]
  },
  {
   "cell_type": "markdown",
   "metadata": {},
   "source": [
    "### What is the average response time of hosts?\n",
    "\n",
    "Query: How quickly do hosts respond to guest inquiries, and does this affect booking success?\n"
   ]
  },
  {
   "cell_type": "code",
   "execution_count": null,
   "metadata": {
    "vscode": {
     "languageId": "sql"
    }
   },
   "outputs": [],
   "source": [
    "SELECT\n",
    "  AVG(TIMESTAMPDIFF(MINUTE, ts_interaction_first, ts_reply_at_first)) AS avg_response_time_minutes\n",
    "FROM\n",
    "  contacts\n",
    "WHERE\n",
    "  ts_reply_at_first IS NOT NULL;"
   ]
  },
  {
   "cell_type": "markdown",
   "metadata": {},
   "source": [
    "### Which listings have the highest booking rates?\n",
    "\n",
    "Query: Which listings have the highest ratio of bookings to inquiries?\n"
   ]
  },
  {
   "cell_type": "code",
   "execution_count": null,
   "metadata": {
    "vscode": {
     "languageId": "sql"
    }
   },
   "outputs": [],
   "source": [
    "SELECT\n",
    "  l.id_listing_anon,\n",
    "  l.listing_neighborhood,\n",
    "  COUNT(c.ts_booking_at) / COUNT(c.ts_interaction_first) AS booking_rate\n",
    "FROM\n",
    "  contacts AS c\n",
    "INNER JOIN\n",
    "  listings AS l\n",
    "ON c.id_listing_anon = l.id_listing_anon\n",
    "GROUP BY\n",
    "  l.id_listing_anon, l.listing_neighborhood\n",
    "ORDER BY\n",
    "  booking_rate DESC\n",
    "LIMIT 30;"
   ]
  },
  {
   "cell_type": "markdown",
   "metadata": {},
   "source": [
    "### Do longer initial messages from guests lead to higher booking rates?\n",
    "\n",
    "Query: Is there a correlation between the length of a guest's first message and the likelihood of a booking?\n"
   ]
  },
  {
   "cell_type": "code",
   "execution_count": null,
   "metadata": {
    "vscode": {
     "languageId": "sql"
    }
   },
   "outputs": [],
   "source": [
    "SELECT\n",
    "  CASE\n",
    "    WHEN m_first_message_length_in_characters < 100 THEN 'Short Message'\n",
    "    WHEN m_first_message_length_in_characters BETWEEN 100 AND 300 THEN 'Medium Message'\n",
    "    ELSE 'Long Message'\n",
    "  END AS message_length_category,\n",
    "  COUNT(ts_booking_at) AS booking_count\n",
    "FROM \n",
    "  contacts\n",
    "GROUP BY \n",
    "  message_length_category\n",
    "ORDER BY \n",
    "  booking_count DESC;"
   ]
  },
  {
   "cell_type": "markdown",
   "metadata": {},
   "source": [
    "### What are the most common reasons for unsuccessful bookings?\n",
    "\n",
    "Query: Are there patterns in guest or host behavior that lead to failed bookings (e.g., lack of response, late replies)?\n"
   ]
  },
  {
   "cell_type": "code",
   "execution_count": null,
   "metadata": {
    "vscode": {
     "languageId": "sql"
    }
   },
   "outputs": [],
   "source": [
    "SELECT\n",
    "  contact_channel_first,\n",
    "  guest_user_stage_first,\n",
    "  COUNT(*) AS failed_bookings_count\n",
    "FROM\n",
    "  contacts\n",
    "WHERE\n",
    "  ts_booking_at IS NULL\n",
    "GROUP BY\n",
    "  contact_channel_first, guest_user_stage_first\n",
    "ORDER BY\n",
    "  failed_bookings_count DESC;\n"
   ]
  },
  {
   "cell_type": "code",
   "execution_count": null,
   "metadata": {
    "vscode": {
     "languageId": "sql"
    }
   },
   "outputs": [],
   "source": [
    "SELECT\n",
    "  contact_channel_first,\n",
    "  SUM(CASE WHEN guest_user_stage_first = 'new_user' THEN 1 ELSE 0 END) AS new_users,\n",
    "  SUM(CASE WHEN guest_user_stage_first = 'past_booker' THEN 1 ELSE 0 END) AS past_booker,\n",
    "  SUM(CASE WHEN guest_user_stage_first IS NULL THEN 1 ELSE 0 END) AS null_values,\n",
    "  -- Add more stages as needed\n",
    "  COUNT(*) AS total_failed_bookings\n",
    "FROM\n",
    "  contacts\n",
    "WHERE\n",
    "  ts_booking_at IS NULL\n",
    "GROUP BY\n",
    "  contact_channel_first\n",
    "ORDER BY\n",
    "  total_failed_bookings DESC;\n"
   ]
  },
  {
   "cell_type": "code",
   "execution_count": null,
   "metadata": {
    "vscode": {
     "languageId": "sql"
    }
   },
   "outputs": [],
   "source": [
    "SELECT\n",
    "  contact_channel_first,\n",
    "  ROUND(SUM(CASE WHEN guest_user_stage_first = 'new_user' THEN 1 ELSE 0 END) * 100.0 / COUNT(*), 1) AS new_user_percentage,\n",
    "  ROUND(SUM(CASE WHEN guest_user_stage_first = 'past_booker' THEN 1 ELSE 0 END) * 100.0 / COUNT(*), 1) AS past_booker_percentage,\n",
    "  ROUND(SUM(CASE WHEN guest_user_stage_first IS NULL THEN 1 ELSE 0 END) * 100.0 / COUNT(*), 1) AS null_values_percentage,\n",
    "  COUNT(*) AS total_failed_bookings\n",
    "FROM\n",
    "  contacts\n",
    "WHERE\n",
    "  ts_booking_at IS NULL\n",
    "GROUP BY\n",
    "  contact_channel_first\n",
    "ORDER BY\n",
    "  total_failed_bookings DESC;\n"
   ]
  },
  {
   "cell_type": "markdown",
   "metadata": {},
   "source": [
    "### How does guest origin influence booking behavior?\n",
    "\n",
    "Query: Do guests from certain countries tend to book more frequently or choose specific types of properties?\n"
   ]
  },
  {
   "cell_type": "code",
   "execution_count": null,
   "metadata": {
    "vscode": {
     "languageId": "sql"
    }
   },
   "outputs": [],
   "source": [
    "SELECT\n",
    "  u.country,\n",
    "  COUNT(c.ts_booking_at) AS booking_count,\n",
    "  l.room_type\n",
    "FROM\n",
    "  contacts AS c\n",
    "INNER JOIN\n",
    "  users AS u\n",
    "  ON c.id_guest_anon = u.id_user_anon\n",
    "INNER JOIN\n",
    "  listings l\n",
    "  ON c.id_listing_anon = l.id_listing_anon\n",
    "WHERE\n",
    "  c.ts_booking_at IS NOT NULL\n",
    "GROUP BY\n",
    "  u.country, l.room_type\n",
    "ORDER BY\n",
    "  booking_count DESC;"
   ]
  },
  {
   "cell_type": "markdown",
   "metadata": {},
   "source": [
    "### What factors contribute to a host’s success rate?\n",
    "\n",
    "Query: Are there specific characteristics (e.g., response time, listing type) that correlate with higher booking rates for hosts?\n"
   ]
  },
  {
   "cell_type": "code",
   "execution_count": null,
   "metadata": {
    "vscode": {
     "languageId": "sql"
    }
   },
   "outputs": [],
   "source": [
    "SELECT\n",
    "--   l.id_listing_anon,\n",
    "  l.room_type,\n",
    "  l.total_reviews,\n",
    "  AVG(TIMESTAMPDIFF(MINUTE, c.ts_interaction_first, c.ts_reply_at_first)) AS avg_response_time_minutes,\n",
    "  COUNT(c.ts_booking_at) AS booking_count\n",
    "FROM\n",
    "  contacts AS c\n",
    "INNER JOIN\n",
    "  listings AS l\n",
    "  ON c.id_listing_anon = l.id_listing_anon\n",
    "WHERE\n",
    "  c.ts_booking_at IS NOT NULL\n",
    "GROUP BY\n",
    "  1, 2\n",
    "ORDER BY\n",
    "  booking_count DESC\n",
    "LIMIT 30;"
   ]
  }
 ],
 "metadata": {
  "kernelspec": {
   "display_name": "base",
   "language": "python",
   "name": "python3"
  },
  "language_info": {
   "codemirror_mode": {
    "name": "ipython",
    "version": 3
   },
   "file_extension": ".py",
   "mimetype": "text/x-python",
   "name": "python",
   "nbconvert_exporter": "python",
   "pygments_lexer": "ipython3",
   "version": "3.10.14"
  }
 },
 "nbformat": 4,
 "nbformat_minor": 2
}
